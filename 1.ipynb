{
 "cells": [
  {
   "cell_type": "code",
   "execution_count": null,
   "id": "8cf18579",
   "metadata": {},
   "outputs": [],
   "source": [
    "import pandas as pd\n",
    "import numpy as np\n",
    "import seaborn as sns\n",
    "import matplotlib.pyplot as plt"
   ]
  },
  {
   "cell_type": "code",
   "execution_count": null,
   "id": "9785d23e",
   "metadata": {},
   "outputs": [],
   "source": [
    "df  = pd.read_csv(\"uber.csv\")"
   ]
  },
  {
   "cell_type": "code",
   "execution_count": null,
   "id": "95a9241d",
   "metadata": {},
   "outputs": [],
   "source": [
    "df.head()"
   ]
  },
  {
   "cell_type": "code",
   "execution_count": null,
   "id": "f2050540",
   "metadata": {},
   "outputs": [],
   "source": [
    "df.info() "
   ]
  },
  {
   "cell_type": "code",
   "execution_count": null,
   "id": "7a58d76d",
   "metadata": {},
   "outputs": [],
   "source": [
    "df.columns "
   ]
  },
  {
   "cell_type": "code",
   "execution_count": null,
   "id": "2b805dc7",
   "metadata": {},
   "outputs": [],
   "source": [
    "df = df.drop(['Unnamed: 0', 'key'], axis= 1) "
   ]
  },
  {
   "cell_type": "code",
   "execution_count": null,
   "id": "e98cae88",
   "metadata": {},
   "outputs": [],
   "source": [
    "df.head()"
   ]
  },
  {
   "cell_type": "code",
   "execution_count": null,
   "id": "465258ab",
   "metadata": {},
   "outputs": [],
   "source": [
    "df.shape "
   ]
  },
  {
   "cell_type": "code",
   "execution_count": null,
   "id": "4abc8b91",
   "metadata": {},
   "outputs": [],
   "source": [
    "df.dtypes "
   ]
  },
  {
   "cell_type": "code",
   "execution_count": null,
   "id": "28181a85",
   "metadata": {},
   "outputs": [],
   "source": [
    "df.info()\n"
   ]
  },
  {
   "cell_type": "code",
   "execution_count": null,
   "id": "6b42caca",
   "metadata": {},
   "outputs": [],
   "source": [
    "df.describe() "
   ]
  },
  {
   "cell_type": "code",
   "execution_count": null,
   "id": "2cdecff4",
   "metadata": {},
   "outputs": [],
   "source": [
    "df.isnull().sum() "
   ]
  },
  {
   "cell_type": "code",
   "execution_count": null,
   "id": "764a1207",
   "metadata": {},
   "outputs": [],
   "source": [
    "df['dropoff_latitude'].fillna(value=df['dropoff_latitude'].mean(),inplace = True)\n",
    "df['dropoff_longitude'].fillna(value=df['dropoff_longitude'].median(),inplace = True)"
   ]
  },
  {
   "cell_type": "code",
   "execution_count": null,
   "id": "77e59aaa",
   "metadata": {},
   "outputs": [],
   "source": [
    "df.isnull().sum() "
   ]
  },
  {
   "cell_type": "code",
   "execution_count": null,
   "id": "7fe577b7",
   "metadata": {},
   "outputs": [],
   "source": [
    "df.dtypes"
   ]
  },
  {
   "cell_type": "code",
   "execution_count": null,
   "id": "83065d5c",
   "metadata": {},
   "outputs": [],
   "source": [
    "df.pickup_datetime = pd.to_datetime(df.pickup_datetime, errors='coerce') "
   ]
  },
  {
   "cell_type": "code",
   "execution_count": null,
   "id": "cb243df9",
   "metadata": {},
   "outputs": [],
   "source": [
    "df.dtypes"
   ]
  },
  {
   "cell_type": "code",
   "execution_count": null,
   "id": "8ab48d27",
   "metadata": {},
   "outputs": [],
   "source": [
    "df= df.assign(hour = df.pickup_datetime.dt.hour,\n",
    "             day= df.pickup_datetime.dt.day,\n",
    "             month = df.pickup_datetime.dt.month,\n",
    "             year = df.pickup_datetime.dt.year,\n",
    "             dayofweek = df.pickup_datetime.dt.dayofweek)"
   ]
  },
  {
   "cell_type": "code",
   "execution_count": null,
   "id": "b71d05c5",
   "metadata": {},
   "outputs": [],
   "source": [
    "df.head()"
   ]
  },
  {
   "cell_type": "code",
   "execution_count": null,
   "id": "6a4c6fb6",
   "metadata": {},
   "outputs": [],
   "source": [
    "df = df.drop('pickup_datetime',axis=1)\n"
   ]
  },
  {
   "cell_type": "code",
   "execution_count": null,
   "id": "ce586cd5",
   "metadata": {},
   "outputs": [],
   "source": [
    "df.head()"
   ]
  },
  {
   "cell_type": "code",
   "execution_count": null,
   "id": "dd383ed2",
   "metadata": {},
   "outputs": [],
   "source": [
    "df.dtypes"
   ]
  },
  {
   "cell_type": "code",
   "execution_count": null,
   "id": "d02f34bc",
   "metadata": {},
   "outputs": [],
   "source": [
    "df.plot(kind = \"box\",subplots = True,layout = (7,2),figsize=(15,20)) "
   ]
  },
  {
   "cell_type": "code",
   "execution_count": null,
   "id": "738b633b",
   "metadata": {},
   "outputs": [],
   "source": [
    "def remove_outlier(df1 , col):\n",
    "    Q1 = df1[col].quantile(0.25)\n",
    "    Q3 = df1[col].quantile(0.75)\n",
    "    IQR = Q3 - Q1\n",
    "    lower_whisker = Q1-1.5*IQR\n",
    "    upper_whisker = Q3+1.5*IQR\n",
    "    df[col] = np.clip(df1[col] , lower_whisker , upper_whisker)\n",
    "    return df1\n",
    "\n",
    "def treat_outliers_all(df1 , col_list):\n",
    "    for c in col_list:\n",
    "        df1 = remove_outlier(df , c)\n",
    "    return df1"
   ]
  },
  {
   "cell_type": "code",
   "execution_count": null,
   "id": "132161bd",
   "metadata": {},
   "outputs": [],
   "source": [
    "df = treat_outliers_all(df , df.iloc[: , 0::])"
   ]
  },
  {
   "cell_type": "code",
   "execution_count": null,
   "id": "1080ca21",
   "metadata": {},
   "outputs": [],
   "source": [
    "df.plot(kind = \"box\",subplots = True,layout = (7,2),figsize=(15,20)) "
   ]
  },
  {
   "cell_type": "code",
   "execution_count": null,
   "id": "f9042841",
   "metadata": {},
   "outputs": [],
   "source": [
    "import haversine as hs  \n",
    "travel_dist = []\n",
    "for pos in range(len(df['pickup_longitude'])):\n",
    "        long1,lati1,long2,lati2 = [df['pickup_longitude'][pos],df['pickup_latitude'][pos],df['dropoff_longitude'][pos],df['dropoff_latitude'][pos]]\n",
    "        loc1=(lati1,long1)\n",
    "        loc2=(lati2,long2)\n",
    "        c = hs.haversine(loc1,loc2)\n",
    "        travel_dist.append(c)\n",
    "    \n",
    "print(travel_dist)\n",
    "df['dist_travel_km'] = travel_dist\n",
    "df.head()"
   ]
  },
  {
   "cell_type": "code",
   "execution_count": null,
   "id": "a8fc9d86",
   "metadata": {},
   "outputs": [],
   "source": [
    "df= df.loc[(df.dist_travel_km >= 1) | (df.dist_travel_km <= 130)]\n",
    "print(\"Remaining observastions in the dataset:\", df.shape)"
   ]
  },
  {
   "cell_type": "code",
   "execution_count": null,
   "id": "65573111",
   "metadata": {},
   "outputs": [],
   "source": [
    "incorrect_coordinates = df.loc[(df.pickup_latitude > 90) |(df.pickup_latitude < -90) |\n",
    "                                   (df.dropoff_latitude > 90) |(df.dropoff_latitude < -90) |\n",
    "                                   (df.pickup_longitude > 180) |(df.pickup_longitude < -180) |\n",
    "                                   (df.dropoff_longitude > 90) |(df.dropoff_longitude < -90)\n",
    "                                    ]"
   ]
  },
  {
   "cell_type": "code",
   "execution_count": null,
   "id": "f7afb6fb",
   "metadata": {},
   "outputs": [],
   "source": [
    "df.drop(incorrect_coordinates, inplace = True, errors = 'ignore')"
   ]
  },
  {
   "cell_type": "code",
   "execution_count": null,
   "id": "acbaa382",
   "metadata": {},
   "outputs": [],
   "source": [
    "df.head()"
   ]
  },
  {
   "cell_type": "code",
   "execution_count": null,
   "id": "75be700d",
   "metadata": {},
   "outputs": [],
   "source": [
    "df.isnull().sum()"
   ]
  },
  {
   "cell_type": "code",
   "execution_count": null,
   "id": "b69d9d57",
   "metadata": {},
   "outputs": [],
   "source": [
    "sns.heatmap(df.isnull()) "
   ]
  },
  {
   "cell_type": "code",
   "execution_count": null,
   "id": "03aee8fb",
   "metadata": {},
   "outputs": [],
   "source": [
    "corr = df.corr() "
   ]
  },
  {
   "cell_type": "code",
   "execution_count": null,
   "id": "6f748085",
   "metadata": {},
   "outputs": [],
   "source": [
    "corr"
   ]
  },
  {
   "cell_type": "code",
   "execution_count": null,
   "id": "379a2944",
   "metadata": {},
   "outputs": [],
   "source": [
    "fig,axis = plt.subplots(figsize = (10,6))\n",
    "sns.heatmap(df.corr(),annot = True) "
   ]
  },
  {
   "cell_type": "code",
   "execution_count": null,
   "id": "dcbe11f4",
   "metadata": {},
   "outputs": [],
   "source": [
    "x = df[['pickup_longitude','pickup_latitude','dropoff_longitude','dropoff_latitude','passenger_count','hour','day','month','year','dayofweek','dist_travel_km']]"
   ]
  },
  {
   "cell_type": "code",
   "execution_count": null,
   "id": "374ad33e",
   "metadata": {},
   "outputs": [],
   "source": [
    "y = df['fare_amount']"
   ]
  },
  {
   "cell_type": "code",
   "execution_count": null,
   "id": "531acc39",
   "metadata": {},
   "outputs": [],
   "source": [
    "from sklearn.model_selection import train_test_split\n",
    "X_train,X_test,y_train,y_test = train_test_split(x,y,test_size = 0.33)"
   ]
  },
  {
   "cell_type": "code",
   "execution_count": null,
   "id": "e7832a2a",
   "metadata": {},
   "outputs": [],
   "source": [
    "from sklearn.linear_model import LinearRegression\n",
    "regression = LinearRegression()"
   ]
  },
  {
   "cell_type": "code",
   "execution_count": null,
   "id": "250424f0",
   "metadata": {},
   "outputs": [],
   "source": [
    "regression.fit(X_train,y_train)"
   ]
  },
  {
   "cell_type": "code",
   "execution_count": null,
   "id": "20e68d88",
   "metadata": {},
   "outputs": [],
   "source": [
    "regression.intercept_ "
   ]
  },
  {
   "cell_type": "code",
   "execution_count": null,
   "id": "51d71c8f",
   "metadata": {},
   "outputs": [],
   "source": [
    "regression.coef_ "
   ]
  },
  {
   "cell_type": "code",
   "execution_count": null,
   "id": "1f1eb1de",
   "metadata": {},
   "outputs": [],
   "source": [
    "prediction = regression.predict(X_test) "
   ]
  },
  {
   "cell_type": "code",
   "execution_count": null,
   "id": "f0d5ff74",
   "metadata": {},
   "outputs": [],
   "source": [
    "print(prediction)"
   ]
  },
  {
   "cell_type": "code",
   "execution_count": null,
   "id": "bee43837",
   "metadata": {},
   "outputs": [],
   "source": [
    "y_test"
   ]
  },
  {
   "cell_type": "code",
   "execution_count": null,
   "id": "0adbb04a",
   "metadata": {},
   "outputs": [],
   "source": [
    "from sklearn.metrics import r2_score "
   ]
  },
  {
   "cell_type": "code",
   "execution_count": null,
   "id": "e149ee76",
   "metadata": {},
   "outputs": [],
   "source": [
    "r2_score(y_test,prediction)"
   ]
  },
  {
   "cell_type": "code",
   "execution_count": null,
   "id": "fe211918",
   "metadata": {},
   "outputs": [],
   "source": [
    "from sklearn.metrics import mean_squared_error"
   ]
  },
  {
   "cell_type": "code",
   "execution_count": null,
   "id": "c0f0a43a",
   "metadata": {},
   "outputs": [],
   "source": [
    "MSE = mean_squared_error(y_test,prediction)"
   ]
  },
  {
   "cell_type": "code",
   "execution_count": null,
   "id": "48d59a67",
   "metadata": {},
   "outputs": [],
   "source": [
    "MSE "
   ]
  },
  {
   "cell_type": "code",
   "execution_count": null,
   "id": "2511108b",
   "metadata": {},
   "outputs": [],
   "source": [
    "RMSE = np.sqrt(MSE)"
   ]
  },
  {
   "cell_type": "code",
   "execution_count": null,
   "id": "2dc85cab",
   "metadata": {},
   "outputs": [],
   "source": [
    "RMSE"
   ]
  },
  {
   "cell_type": "code",
   "execution_count": null,
   "id": "112d3d95",
   "metadata": {},
   "outputs": [],
   "source": [
    "from sklearn.ensemble import RandomForestRegressor"
   ]
  },
  {
   "cell_type": "code",
   "execution_count": null,
   "id": "38ec4ad5",
   "metadata": {},
   "outputs": [],
   "source": [
    "rf = RandomForestRegressor(n_estimators=100) "
   ]
  },
  {
   "cell_type": "code",
   "execution_count": null,
   "id": "0534374d",
   "metadata": {},
   "outputs": [],
   "source": [
    "rf.fit(X_train,y_train)"
   ]
  },
  {
   "cell_type": "code",
   "execution_count": null,
   "id": "9204f230",
   "metadata": {},
   "outputs": [],
   "source": [
    "y_pred = rf.predict(X_test)"
   ]
  },
  {
   "cell_type": "code",
   "execution_count": null,
   "id": "2ff13564",
   "metadata": {},
   "outputs": [],
   "source": [
    "y_pred"
   ]
  },
  {
   "cell_type": "code",
   "execution_count": null,
   "id": "0d281db3",
   "metadata": {},
   "outputs": [],
   "source": [
    "R2_Random = r2_score(y_test,y_pred)"
   ]
  },
  {
   "cell_type": "code",
   "execution_count": null,
   "id": "addc915b",
   "metadata": {},
   "outputs": [],
   "source": [
    "R2_Random"
   ]
  },
  {
   "cell_type": "code",
   "execution_count": null,
   "id": "a5afba13",
   "metadata": {},
   "outputs": [],
   "source": [
    "MSE_Random = mean_squared_error(y_test,y_pred)"
   ]
  },
  {
   "cell_type": "code",
   "execution_count": null,
   "id": "2a24e004",
   "metadata": {},
   "outputs": [],
   "source": [
    "MSE_Random"
   ]
  },
  {
   "cell_type": "code",
   "execution_count": null,
   "id": "2d28c828",
   "metadata": {},
   "outputs": [],
   "source": [
    "RMSE_Random = np.sqrt(MSE_Random)"
   ]
  },
  {
   "cell_type": "code",
   "execution_count": null,
   "id": "bd7fce65",
   "metadata": {
    "scrolled": true
   },
   "outputs": [],
   "source": [
    "RMSE_Random"
   ]
  }
 ],
 "metadata": {
  "kernelspec": {
   "display_name": "Python 3",
   "language": "python",
   "name": "python3"
  },
  "language_info": {
   "codemirror_mode": {
    "name": "ipython",
    "version": 3
   },
   "file_extension": ".py",
   "mimetype": "text/x-python",
   "name": "python",
   "nbconvert_exporter": "python",
   "pygments_lexer": "ipython3",
   "version": "3.8.8"
  }
 },
 "nbformat": 4,
 "nbformat_minor": 5
}
